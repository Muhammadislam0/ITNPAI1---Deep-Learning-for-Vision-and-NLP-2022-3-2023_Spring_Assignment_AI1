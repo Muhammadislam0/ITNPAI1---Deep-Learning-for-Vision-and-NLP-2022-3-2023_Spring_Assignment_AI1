{
  "nbformat": 4,
  "nbformat_minor": 0,
  "metadata": {
    "colab": {
      "provenance": []
    },
    "kernelspec": {
      "name": "python3",
      "display_name": "Python 3"
    },
    "language_info": {
      "name": "python"
    }
  },
  "cells": [
    {
      "cell_type": "markdown",
      "source": [
        "---\n",
        "\n",
        "#University of Stirling - Spring 2023\n",
        "\n",
        "## ITNPAI1 - Deep Learning for Vision and NLP (2022/3)\n",
        "\n",
        "---"
      ],
      "metadata": {
        "id": "4i5afvUbhmGo"
      }
    },
    {
      "cell_type": "markdown",
      "source": [
        "# Assignment Summary\n",
        "\n",
        "In this activity, you are required to apply the knowledge acquired in this module through the design and development of a complete project for deep learning-based image pattern recognition in an application to be defined by yourself. For this, you will need to perform the following **mandatory** steps:\n",
        "\n",
        "1. [Problem definition](#scrollTo=hglJVRRslqMn)\n",
        "2. [GitHub repository](#scrollTo=ecxDhkV9qmUf)\n",
        "3. [Dataset](#scrollTo=qEgFzxmWrGA9)\n",
        "4. [Dataloader](#scrollTo=EDd6lLwlx4un)\n",
        "5. [Proposed solution](#scrollTo=ScTrpUW8zOp4)\n",
        "6. [Experimental tests and evaluations](#scrollTo=3RBW58of0ZDo)\n",
        "7. [Quiz and Report](#scrollTo=ws14iV4Dp_vf)\n",
        "8. [Demonstration session](#scrollTo=ShLJrPKT4SQp)\n"
      ],
      "metadata": {
        "id": "cJZF464wk6Xh"
      }
    },
    {
      "cell_type": "markdown",
      "source": [
        "---\n",
        "\n",
        "# 1. **Problem definition** \n",
        "\n",
        "\n",
        "You must choose a computer vision task (classification, detection, semantic segmentation, captioning, geotagging, etc) to be modeled from images collected in the context of two different cities (A and B).\n",
        " - If the work is being carried out in pairs, **cities A and B must be the hometowns of each student**. In the case of individual work, city A must be your hometown and city B must be Stirling (or Edinburgh, if needed).\n",
        " - The standard project recommendation is to focus on recognizing cars or trees, which are easier to identify and annotate. Other objects or phenomena can be adopted, but are subject to prior approval by the module instructor (Jefersson A. dos Santos). **It is not allowed to assemble datasets containing people. Other sensitive patterns, such as license plates, must be properly hidden.**\n",
        " - Don't panic! We are aware that acquiring images _in situ_ is an impediment for most students. The dataset can be assembled with images collected remotely or from public repositories. Just be careful with rights and permissions for using images found on the internet. Anyway, these factors must be taken into account for the problem definition.\n",
        " - Think of interesting problems, but that are easy to assemble an image dataset. Although we encourage you to do interesting and engaging work, it shouldn't be too complex or time-consuming. Try to appropriately scale the time required for this step. Ask the instructors for advice, if necessary.\n",
        "\n",
        "[top](#scrollTo=4i5afvUbhmGo)\n",
        " "
      ],
      "metadata": {
        "id": "hglJVRRslqMn"
      }
    },
    {
      "cell_type": "markdown",
      "source": [
        "---\n",
        "# 2. **GitHub repository**\n",
        "\n",
        "Give your project a name, create a private [GitHub repository](https://github.com/) with the name [Module Code] + [Project Name] and give access to the module instructors. Create a cover page with a description of your project. This empty notebook must be uploaded in the repository as well as the created dataset. The checkpoint date to perform this task will be two weeks after the publication of this notebook. \n",
        "This notebook should be updated and committed to the repository according to the checkpoint dates.\n",
        "The repository's update history will be used as a criterion for monitoring and evaluating the work.\n",
        "**Check the videos provided in the extra section on Canvas for more details on how to create your GitHub repository.**\n",
        "\n",
        "[top](#scrollTo=4i5afvUbhmGo)"
      ],
      "metadata": {
        "id": "ecxDhkV9qmUf"
      }
    },
    {
      "cell_type": "markdown",
      "source": [
        "---\n",
        "# 3. **Dataset creation**\n",
        "\n",
        "You must collect a minimum of **200 positive samples** from the study objects for each city (A and B). \n",
        "Note that, depending on the task being solved, it will also be necessary to: \n",
        "\n",
        "   (i) collect more samples - negative ones, for instance;\n",
        "\n",
        "   (ii) annotating each image, delineating objects or creating bounding boxes. Planning and executing this correctly is important to ensure effective training of deep learning-based models.\n",
        "\n",
        "Your dataset can be assembled from one or more of the following ways:\n",
        "\n",
        "  - *M1* - Pictures taken by yourself on site (street view from cities A and B), with attention to anonymization issues (if it is the case). It is not allowed to assemble datasets containing people. Other sensitive patterns, such as license plates, must be properly hidden.\n",
        "\n",
        "  - *M2* - Aerial satellite/drone images obtained from GIS and remote sensing platforms or public repositories. Be careful with unusual file formats that may be challenging to manipulate using basic image processing libraries. We recommend keeping or converting the images to jpg or png.\n",
        "\n",
        "  - *M3* - Pictures taken from other public available datasets. Remember you are not allowed to use datasets containing people or other sensitive patterns/objects.\n",
        "\n",
        "  - *M4* - Images crawled from the internet as a whole (social networks, webpages, etc), with special attention to use and copyrights.\n",
        "\n",
        "  - *M5* - Textual and metadata you may need in your project, with special attention to use and copyrights (as always!).\n",
        "\n",
        "**Important:** If you collect the images on your own or from aerial imagery repositories, it will be necessary to keep the geographic coordinates. If you collect from specific websites, please retain the source links. This information should be placed in a .csv file and made available along with the final dataset.\n",
        "\n",
        "[top](#scrollTo=4i5afvUbhmGo)"
      ],
      "metadata": {
        "id": "qEgFzxmWrGA9"
      }
    },
    {
      "cell_type": "markdown",
      "source": [
        "---\n",
        "\n",
        "# 4. **Dataloader**\n",
        "\n",
        "Here you are required to implement all the code related to pre-processing, cleaning, de-noising and preparing the input images and metadata according to the necessary data structures as input to your pattern recognition module. We recommend using [PyTorch](https://pytorch.org/tutorials/beginner/basics/data_tutorial.html) or [Tensorflow (with Keras)](https://keras.io/getting_started/intro_to_keras_for_engineers/) as a base, but you are free to use any library or platform as long as it is well justified in the [final report](#scrollTo=ws14iV4Dp_vf).\n",
        "\n",
        "[top](scrollTo=4i5afvUbhmGo)"
      ],
      "metadata": {
        "id": "EDd6lLwlx4un"
      }
    },
    {
      "cell_type": "code",
      "source": [
        "# Write your dataloader code here. Create more code cells if you find it necessary\n",
        "import tensorflow as tf\n",
        "import cv2\n",
        "import numpy as np\n",
        "import pandas as pd\n",
        "import pathlib\n",
        "import os\n",
        "import matplotlib.pyplot as plt\n",
        "\n",
        "input_shape = (128, 128, 3)\n",
        "batch_size = 32\n",
        "epochs = 120\n",
        "\n",
        "street_dataset = os.path.join(\"city-street-view-dataset\")\n",
        "images = list(pathlib.Path(street_dataset).glob(\"*.jpg\"))\n",
        "len(images)"
      ],
      "metadata": {
        "id": "RaPd82NmyNCK"
      },
      "execution_count": null,
      "outputs": []
    },
    {
      "cell_type": "markdown",
      "source": [
        "---\n",
        "\n",
        "# 5. **Proposed solution** \n",
        "\n",
        "This is where you should implement most of the code for your solution. Write the routines for training and predicting the models and any necessary intermediate steps. Post-processing functions must also be implemented here.\n",
        "\n",
        "  - Use good programming practices, modularizing and adequately commenting on your code. Code quality will be considered in the final assessment.\n",
        "Again, we recommend using [PyTorch](https://pytorch.org/tutorials/beginner/introyt.html), but you are free to use any library or platform. You just need to justify that in the [final report](#scrollTo=ws14iV4Dp_vf).\n",
        "\n",
        "  - You can use pre-trained models as backbones or any code available on the web as a basis, but they must be correctly credited and referenced both in this notebook and in the final report. Cite the source link repository and explicitly cite the authors of it.\n",
        "If you changed existing code, make it clear what the changes were.\n",
        "Make it clear where your own code starts and where it ends. Note that the originality percentage of the code will be considered in the evaluation, so use external codes wisely and sparingly. **Missconduct alert:** remember that there are many tools that compare existing source code and that it is relatively easy to identify authorship. So, be careful and fair by always properly thanking the authors if you use external code.\n",
        "\n",
        "[top](#scrollTo=4i5afvUbhmGo)"
      ],
      "metadata": {
        "id": "ScTrpUW8zOp4"
      }
    },
    {
      "cell_type": "code",
      "source": [
        "# Write your proposed solution code here. Create more code cells if you find it necessary\n",
        "plt.figure(figsize = (12, 8))\n",
        "for i in range(24):\n",
        "  plt.subplot(4, 6, (i + 1))\n",
        "  img = cv2.imread(str(images[i]))\n",
        "  img = cv2.cvtColor(img , cv2.COLOR_BGR2RGB)\n",
        "  plt.imshow(img)\n",
        "plt.legend()  \n",
        "images = images[:20000]\n",
        "len(images)\n",
        "images_rgb = []\n",
        "images_greyscale = []\n",
        "for i in range(len(images)):\n",
        "  img = cv2.imread(str(images[i]))\n",
        "  img = img/255\n",
        "  img = cv2.resize(img, (128, 128))\n",
        "  img = np.float32(img)\n",
        "  img = cv2.cvtColor(img, cv2.COLOR_BGR2RGB)\n",
        "  images_rgb.append(img)\n",
        "  images_greyscale.append(cv2.cvtColor(img, cv2.COLOR_RGB2GRAY))\n",
        "\n",
        "\n",
        "\n",
        "images_rgb = np.array(images_rgb)\n",
        "images_greyscale = np.array(images_greyscale)\n",
        "\n",
        "images_greyscale.shape\n",
        "\n",
        "images_rgb.shape\n",
        "\n",
        "plt.figure(figsize = (12, 8))\n",
        "for i in range(24):\n",
        "  plt.subplot(4, 6, (i + 1))\n",
        "  plt.imshow(images_rgb[i])\n",
        "plt.legend()  \n",
        "\n",
        "plt.figure(figsize = (12, 8))\n",
        "for i in range(24):\n",
        "  plt.subplot(4, 6, (i + 1))\n",
        "  plt.imshow(images_greyscale[i])\n",
        "plt.legend()  \n",
        "\n",
        "from keras import backend as k\n",
        "\n",
        "input_encoder = tf.keras.layers.Input(shape = (128, 128, 1))\n",
        "filters = [32, 64, 128, 256]\n",
        "x = tf.keras.layers.Conv2D(filters[0], 3, strides = 2, padding = 'same',\n",
        "                           activation = 'relu')(input_encoder)\n",
        "x = tf.keras.layers.Dropout(0.2)(x)\n",
        "x = tf.keras.layers.BatchNormalization()(x)\n",
        "y = tf.keras.layers.Conv2D(filters[1], 3, strides = 2, padding = \"same\",\n",
        "                           activation = \"relu\")(x)\n",
        "y = tf.keras.layers.Dropout(0.2)(y)\n",
        "y = tf.keras.layers.BatchNormalization()(y)\n",
        "y = tf.keras.layers.concatenate([y, \n",
        "                             tf.keras.layers.Conv2D(filters[1], 1, strides = 2, padding = \"same\")(x)])\n",
        "z = tf.keras.layers.Conv2D(filters[2], 3, strides = 2, padding = \"same\",\n",
        "                           activation = \"relu\")(y)\n",
        "z = tf.keras.layers.Dropout(0.2)(z)\n",
        "z = tf.keras.layers.BatchNormalization()(z)\n",
        "z = tf.keras.layers.concatenate([z, \n",
        "                             tf.keras.layers.Conv2D(filters[2], 1, strides = 2, padding = \"same\")(y),\n",
        "                             tf.keras.layers.Conv2D(filters[2], 1, strides = 4, padding = \"same\")(x)])\n",
        "w = tf.keras.layers.Conv2D(filters[3], 3, strides = 2, padding = \"same\",\n",
        "                           activation = \"relu\")(z)\n",
        "w = tf.keras.layers.Dropout(0.2)(w)\n",
        "w = tf.keras.layers.BatchNormalization()(w)\n",
        "w = tf.keras.layers.concatenate([w,\n",
        "                             tf.keras.layers.Conv2D(filters[3], 1, strides = 2, padding = \"same\")(z), \n",
        "                             tf.keras.layers.Conv2D(filters[3], 1, strides = 4, padding = \"same\")(y),\n",
        "                             tf.keras.layers.Conv2D(filters[3], 1, strides = 8, padding = \"same\")(x)])\n",
        "encoder_shape = k.int_shape(w)\n",
        "output = tf.keras.layers.BatchNormalization()(w)\n",
        "output = tf.keras.layers.Activation(\"elu\")(output)\n",
        "output = tf.keras.layers.Flatten()(output) \n",
        "output = tf.keras.layers.Dense(512)(output)\n",
        "encoder_model = tf.keras.models.Model(\n",
        "    input_encoder, output\n",
        ")\n",
        "encoder_model.summary()                                                                                                        \n",
        "tf.keras.utils.plot_model(encoder_model, show_shapes = True,\n",
        "                          show_layer_names = True,\n",
        "                          show_layer_activations = True)\n",
        "input_decoder = tf.keras.layers.Input(shape = (512, ))\n",
        "r = tf.keras.layers.Dense(encoder_shape[1]*encoder_shape[2]*encoder_shape[3])(input_decoder)\n",
        "r = tf.keras.layers.Reshape((encoder_shape[1], encoder_shape[2], encoder_shape[3]))(r)\n",
        "filters = [256, 128, 64, 32]\n",
        "x = tf.keras.layers.Conv2DTranspose(filters[0], 3, strides = 2, padding = 'same',\n",
        "                           activation = 'elu')(r)\n",
        "x = tf.keras.layers.Dropout(0.2)(x)\n",
        "x = tf.keras.layers.BatchNormalization()(x)\n",
        "y = tf.keras.layers.Conv2DTranspose(filters[1], 3, strides = 2, padding = \"same\",\n",
        "                           activation = \"elu\")(x)\n",
        "y = tf.keras.layers.Dropout(0.2)(y)\n",
        "y = tf.keras.layers.BatchNormalization()(y)\n",
        "y = tf.keras.layers.concatenate([y, \n",
        "                             tf.keras.layers.Conv2DTranspose(filters[1], 1, strides = 2, padding = \"same\")(x)])\n",
        "z = tf.keras.layers.Conv2DTranspose(filters[2], 3, strides = 2, padding = \"same\",\n",
        "                           activation = \"elu\")(y)\n",
        "z = tf.keras.layers.Dropout(0.2)(z)\n",
        "z = tf.keras.layers.BatchNormalization()(z)\n",
        "z = tf.keras.layers.concatenate([z, \n",
        "                             tf.keras.layers.Conv2DTranspose(filters[2], 1, strides = 2, padding = \"same\")(y),\n",
        "                             tf.keras.layers.Conv2DTranspose(filters[2], 1, strides = 4, padding = \"same\")(x)])\n",
        "w = tf.keras.layers.Conv2DTranspose(filters[3], 3, strides = 2, padding = \"same\",\n",
        "                           activation = \"elu\")(z)\n",
        "w = tf.keras.layers.Dropout(0.2)(w)\n",
        "w = tf.keras.layers.BatchNormalization()(w)\n",
        "w = tf.keras.layers.concatenate([w,\n",
        "                             tf.keras.layers.Conv2DTranspose(filters[3], 1, strides = 2, padding = \"same\")(z), \n",
        "                             tf.keras.layers.Conv2DTranspose(filters[3], 1, strides = 4, padding = \"same\")(y),\n",
        "                             tf.keras.layers.Conv2DTranspose(filters[3], 1, strides = 8, padding = \"same\")(x)])\n",
        "w = tf.keras.layers.BatchNormalization()(w)\n",
        "w = tf.keras.layers.Conv2DTranspose(3, 3, strides = 1, padding = \"same\")(w)\n",
        "output = tf.keras.layers.Activation(\"sigmoid\")(w)\n",
        "decoder_model = tf.keras.models.Model(\n",
        "    input_decoder, output\n",
        ")\n",
        "decoder_model.summary()                                                                                                        \n",
        "\n"
      ],
      "metadata": {
        "id": "jJs8HpW_zX0M"
      },
      "execution_count": null,
      "outputs": []
    },
    {
      "cell_type": "markdown",
      "source": [
        "---\n",
        "\n",
        "# 6. **Experimental tests and evaluations** \n",
        "\n",
        "\n",
        "Here you must implement your code for training, testing and evaluating your solution. For this, the following code blocks (*E1*, *E2*, and *E3*) are mandatory:\n",
        "\n",
        "  - *E1* - Training the models. Implement code to call the dataloaders implemented for training your models.  Make routines to test different parameters of your models. Plot graphs that illustrate how parameters impact model training. Compare. Train and select a model for each city (A and B) and justify. You should use half (50%) of the samples from each dataset for training and leave the other half for testing (50%). \n",
        "\n",
        "[top](#scrollTo=4i5afvUbhmGo)"
      ],
      "metadata": {
        "id": "3RBW58of0ZDo"
      }
    },
    {
      "cell_type": "code",
      "source": [
        "# Write your codes for E1 here. Create more code cells if needed\n",
        "input = tf.keras.layers.Input(shape = (128, 128, 1))\n",
        "autoencoder = tf.keras.models.Model(\n",
        "    input, decoder_model(encoder_model(input))\n",
        ")\n",
        "autoencoder.compile(optimizer = \"adam\", loss = \"mse\")\n",
        "autoencoder.summary()\n",
        "\n",
        "from sklearn.model_selection import train_test_split\n",
        "x_train, x_test, y_train, y_test = train_test_split(images_greyscale, \n",
        "                                                    images_rgb, test_size = 0.2, random_state=True)\n",
        "\n",
        "\n",
        "\n"
      ],
      "metadata": {
        "id": "jHWwdXg32BEl"
      },
      "execution_count": null,
      "outputs": []
    },
    {
      "cell_type": "markdown",
      "source": [
        "  - *E2* - Testing the models in the dataset. You must implement code routines to test the predictive ability of your models using half of each dataset intended for testing. **The model trained in city A must be tested in city A. The model trained in city B must be tested in city B.** Use the evaluation metrics (accuracy, F1-score, AUC, etc) that are most appropriate for your problem. Plot graphs that illustrate the results obtained for each city (A and B). Plot visual examples of correctly (true positive) and incorrectly (false positive) classified samples. \n",
        "\n",
        "[top](#scrollTo=4i5afvUbhmGo)\n"
      ],
      "metadata": {
        "id": "TunTimEv1szf"
      }
    },
    {
      "cell_type": "code",
      "source": [
        "# Write your codes for E2 here. Create more code cells if needed\n",
        "\n",
        "history = autoencoder.fit(x_train, y_train, epochs = epochs, batch_size = 64,\n",
        "                          validation_data = (x_test, y_test), \n",
        "                          callbacks = [tf.keras.callbacks.EarlyStopping(monitor = \"val_loss\", mode = \"min\",\n",
        "                                                                       patience= 3,\n",
        "                                                                       restore_best_weights=True),\n",
        "                                       tf.keras.callbacks.ReduceLROnPlateau(monitor = \"val_loss\", mode = \"min\",\n",
        "                                                                            patience = 2, factor=0.1)]\n",
        "                                )\n",
        "\n",
        "plt.plot(history.history['loss'], label = \"training loss\")\n",
        "plt.plot(history.history['val_loss'], label = \"validation loss\")\n",
        "plt.legend()\n",
        "\n",
        "autoencoder.evaluate(x_test, y_test)\n",
        "\n",
        "predict_rgb = autoencoder.predict(x_test)\n",
        "\n",
        "predict_rgb.shape\n",
        "\n"
      ],
      "metadata": {
        "id": "_s6ygCpi2CO8"
      },
      "execution_count": null,
      "outputs": []
    },
    {
      "cell_type": "markdown",
      "source": [
        "  - *E3* - Testing the models crossing datasets. Here you must do exactly the same as in *E2*, but now training in one city and testing in the other. **The model trained in city A must be tested in city B. The model trained in city B must be tested in city A.** Use the same metrics and plot the same types of graphs so that results are comparable.\n",
        "\n",
        "[top](scrollTo=4i5afvUbhmGo)"
      ],
      "metadata": {
        "id": "bZ0zVXjQ1x0_"
      }
    },
    {
      "cell_type": "code",
      "source": [
        "# Write your codes for E3 here. Create more code cells if needed\n",
        "\n",
        "def draw_sample_colorize(x_test, y_test, predict_rgb):\n",
        "  indexs = np.random.choice(range(4000), 27)\n",
        "  all_images = []\n",
        "  for i in indexs:\n",
        "    all_images.append(x_test[i])\n",
        "    all_images.append(y_test[i])\n",
        "    all_images.append(predict_rgb[i]) \n",
        "  plt.figure(figsize = (7, 12))\n",
        "  for i in range(27):\n",
        "    plt.subplot(9, 3, (i + 1))\n",
        "    plt.imshow(all_images[i])\n",
        "  plt.legend()   \n",
        "\n",
        "draw_sample_colorize(x_test, y_test, predict_rgb)"
      ],
      "metadata": {
        "id": "Cotguzxyo3Sa"
      },
      "execution_count": null,
      "outputs": []
    },
    {
      "cell_type": "markdown",
      "source": [
        "---\n",
        "\n",
        "# 7. **Quiz and Report**\n",
        "\n",
        "Answer the assessment quiz that will be made available on Canvas one week before the final deadline. Make a 2-page latex report using the [IEEE template](https://www.overleaf.com/read/hkfsjjsxmxcn) with a maximum of 1000 words. You can deliver the report in MS Word if you prefer. Your report should contain five sections: introduction, description of the proposed solution with justifications, results (here you can include the same graphs and pictures generated in this jupyter notebook), discussion of the results, and conclusion. Properly cite references to articles, tutorials, and sources used. A pdf version of your report should be made available in the project's github repository under the name \"[project name] + _final_report.pdf\".\n",
        "\n",
        "\n",
        "[top](#scrollTo=4i5afvUbhmGo)"
      ],
      "metadata": {
        "id": "ws14iV4Dp_vf"
      }
    },
    {
      "cell_type": "markdown",
      "source": [
        "\n",
        "---\n",
        "\n",
        "# 8. **Demonstration**\n",
        "\n",
        "Some projects (around 10%) will be selected for a mandatory demonstration. During the demo, you will be asked about implementation details and decisions that led to the design of the developed solution.\n",
        "\n",
        "[top](#scrollTo=4i5afvUbhmGo)"
      ],
      "metadata": {
        "id": "ShLJrPKT4SQp"
      }
    }
  ]
}